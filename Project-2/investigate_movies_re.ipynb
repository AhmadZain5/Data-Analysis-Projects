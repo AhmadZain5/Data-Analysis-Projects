{
 "cells": [
  {
   "cell_type": "markdown",
   "metadata": {},
   "source": [
    "# Project: Investigate a Dataset (TMDb movie data)\n",
    "\n",
    "## Table of Contents\n",
    "<ul>\n",
    "<li><a href=\"#intro\">Introduction</a></li>\n",
    "<li><a href=\"#wrangling\">Data Wrangling</a></li>\n",
    "<li><a href=\"#eda\">Exploratory Data Analysis</a></li>\n",
    "<li><a href=\"#conclusions\">Conclusions</a></li>\n",
    "</ul>"
   ]
  },
  {
   "cell_type": "markdown",
   "metadata": {},
   "source": [
    "<a id='intro'></a>\n",
    "## Introduction\n",
    "Analysis of a movie dataset comprised of about more than 10 thousand rows of movie data\n",
    "\n",
    "the following questions are the center intention of this analysis:\n",
    "- Characteristics associated with high revenue movies\n",
    "- Which genres are most popular from year to year?"
   ]
  },
  {
   "cell_type": "code",
   "execution_count": 1,
   "metadata": {
    "jupyter": {
     "outputs_hidden": true
    }
   },
   "outputs": [],
   "source": [
    "import numpy as np\n",
    "import pandas as pd\n",
    "import matplotlib.pyplot as plt\n",
    "%matplotlib inline\n",
    "import seaborn as sns\n",
    "sns.set_style('darkgrid')"
   ]
  },
  {
   "cell_type": "markdown",
   "metadata": {},
   "source": [
    "<a id='wrangling'></a>\n",
    "## Data Wrangling\n",
    "### 2.1 General Properties"
   ]
  },
  {
   "cell_type": "code",
   "execution_count": 2,
   "metadata": {
    "jupyter": {
     "outputs_hidden": true
    }
   },
   "outputs": [],
   "source": [
    "# Reading in the dataset and displaying all columns\n",
    "df_mov = pd.read_csv('tmdb-movies.csv')\n",
    "pd.set_option(\"display.max_columns\", None)\n"
   ]
  },
  {
   "cell_type": "markdown",
   "metadata": {},
   "source": [
    "### 2.2 assessing the magnitude of missing data to set course(s) of action"
   ]
  },
  {
   "cell_type": "code",
   "execution_count": 3,
   "metadata": {},
   "outputs": [
    {
     "data": {
      "text/plain": [
       "id                         0\n",
       "imdb_id                   10\n",
       "popularity                 0\n",
       "budget                     0\n",
       "revenue                    0\n",
       "original_title             0\n",
       "cast                      76\n",
       "homepage                7930\n",
       "director                  44\n",
       "tagline                 2824\n",
       "keywords                1493\n",
       "overview                   4\n",
       "runtime                    0\n",
       "genres                    23\n",
       "production_companies    1030\n",
       "release_date               0\n",
       "vote_count                 0\n",
       "vote_average               0\n",
       "release_year               0\n",
       "budget_adj                 0\n",
       "revenue_adj                0\n",
       "dtype: int64"
      ]
     },
     "execution_count": 3,
     "metadata": {},
     "output_type": "execute_result"
    }
   ],
   "source": [
    "# displaying the sum of NULLs for each column in the dataset\n",
    "df_mov.isnull().sum()"
   ]
  },
  {
   "cell_type": "markdown",
   "metadata": {},
   "source": [
    "#### My thought proccess on handling missing data\n",
    "- For columns such as \"director\", it has relatively small amount of missing data. So, one course of action is to drop the rows associated with the missing values of this column. But, the fact that this dataset—and my type of analysis specifically—is centered around the revenues of the movies and not the directors, dropping those rows might make me miss on crucial pieces of information that are relevent to my analysis and the kind of question I've posed. My recommendation for this scenario is to keep the missng values for the \"director\" column. This same reasoning applies to the columns: \"imdb_id\", \"cast\", and \"overview\".  \n",
    "  \n",
    "  p.s. I'll be dropping the columns mentioned above later on in this wrangling step, as they are not relevent to my analysis. But the above course of action is my proposed solution to how I would go about handling such scenario."
   ]
  },
  {
   "cell_type": "code",
   "execution_count": 4,
   "metadata": {},
   "outputs": [],
   "source": [
    "# dropping the columns mentioned above\n",
    "df_mov.drop(['imdb_id', 'overview', 'cast', 'director'], axis=1, inplace=True)"
   ]
  },
  {
   "cell_type": "markdown",
   "metadata": {},
   "source": [
    "#### My thought proccess on handling missing data(cont.)\n",
    "- For columns such as \"production_companies\" it has relatively large amount of missing data  \n",
    "  \n",
    "  \n",
    "#### My suggested course of action is a case-by-case approach:\n",
    "1. If I intend to analyse the column on its own—without associating it with other columns in the dataset—such as performing common aggregation operations with it, I would choose to drop the missing data of that column.  \n",
    "2. If the column was pivotal to my analysis and closely associated with another column of interest, I would suggest to drop the missing values, rather than completely dropping the column.\n",
    "3. If dropping the missing values of the column in question affects the analysis of the other columns—especially for a small sample size—I would drop the column itself entirely from the dataset, or seperate it from the rest of the dataset to analyse it independently.\n",
    "4. If the column was associated with different proposed questions , I would handle it based on their different needs according to the previous three guidelines.  \n",
    "  \n",
    "  \n",
    "p.s. this same reasoning also applies to the columns: \"keywords\", and \"tagline\".  \n",
    "\n",
    "p.s. I also want to drop the columns mentioned above as they are not relevant to my analysis.\n"
   ]
  },
  {
   "cell_type": "code",
   "execution_count": 5,
   "metadata": {},
   "outputs": [],
   "source": [
    "# dropping the columns mentioned above\n",
    "df_mov.drop(['production_companies', 'keywords', 'tagline'], axis=1, inplace=True)"
   ]
  },
  {
   "cell_type": "markdown",
   "metadata": {},
   "source": [
    "#### My thought proccess on handling missing data(cont.)\n",
    "- For the column \"homepage\", it contains—proportional to the size of this dataset—a significant amount of missing data and thus I would prefer to drop the entire column."
   ]
  },
  {
   "cell_type": "code",
   "execution_count": 6,
   "metadata": {},
   "outputs": [],
   "source": [
    "# dropping the columns mentioned above\n",
    "df_mov.drop(['homepage'], axis=1, inplace=True)"
   ]
  },
  {
   "cell_type": "markdown",
   "metadata": {},
   "source": [
    "#### My thought proccess on handling missing data(cont.)\n",
    "- Lastly, for the column \"genres\" it has small amount of missing data. My second proposed question for this analysis is mainly dependent on this column along with another column \"release_year\". And so, for this scenario, I would only drop the missing values for the column \"genres\" and the corresponding values in the \"release_year\" column.\n",
    "    - despite the relatively low presence of missing data, I would suggest to test how they're distributed. If they weren't evenly distributed throughout the distinct values(i.e. groupings) of the other column in question \"release_year\", that I will be grouping by and rather the missing values were mainly concentrated with one distinct value, I would suggest to drop the entire grouping to not give skewed/biased resutls for this grouping relative to the other groupings."
   ]
  },
  {
   "cell_type": "markdown",
   "metadata": {},
   "source": [
    "#### Here, the distribution of the 23 missing values of the genres column and its corresponding years of release, seem to be associated with different distinct values"
   ]
  },
  {
   "cell_type": "code",
   "execution_count": 7,
   "metadata": {
    "scrolled": false
   },
   "outputs": [
    {
     "data": {
      "image/png": "[encoded data removed]",
      "text/plain": [
       "<Figure size 576x360 with 1 Axes>"
      ]
     },
     "metadata": {},
     "output_type": "display_data"
    }
   ],
   "source": [
    "#filtering the missing values of genres and the corresponding release year\n",
    "genre_null = df_mov[df_mov.genres.isnull()]['release_year'].value_counts()\n",
    "# arranging the bars along the x-axis\n",
    "ind = np.arange(len(genre_null))\n",
    "\n",
    "plt.subplots(figsize=(8,5))\n",
    "\n",
    "plt.bar(ind, genre_null)\n",
    "plt.title('distribution of genres missing values by year', fontsize=14)\n",
    "plt.xlabel('Year', fontsize=14)\n",
    "plt.ylabel('# of missing values', fontsize=14)\n",
    "labels = genre_null.index.astype(str)\n",
    "plt.xticks(ind, labels, rotation=90, fontsize=12)\n",
    "plt.yticks(fontsize=12);"
   ]
  },
  {
   "cell_type": "markdown",
   "metadata": {},
   "source": [
    "#### My thought proccess on handling missing data(cont.)\n",
    "- As a final clarification, I would opt for filling in the missing data. But those are all string columns to be able to fill them with the mean. Maybe, I would have to employ a more advanved technique such as classification or inconveniently and/or unrealistically try to manually fill in the missing data."
   ]
  },
  {
   "cell_type": "markdown",
   "metadata": {},
   "source": [
    "### 2.3 assessing and removing outliers"
   ]
  },
  {
   "cell_type": "markdown",
   "metadata": {},
   "source": [
    "First things first:\n",
    "- displaying the shapes of the different columns in the dataset"
   ]
  },
  {
   "cell_type": "code",
   "execution_count": 8,
   "metadata": {},
   "outputs": [
    {
     "data": {
      "image/png": "[encoded data removed]",
      "text/plain": [
       "<Figure size 864x864 with 12 Axes>"
      ]
     },
     "metadata": {},
     "output_type": "display_data"
    }
   ],
   "source": [
    "df_mov.hist(figsize=(12,12));"
   ]
  },
  {
   "cell_type": "markdown",
   "metadata": {},
   "source": [
    "#### Interpreting some of the shapes displayed above:\n",
    "- Distribution for vote averages is normally distributed which indicates that the vote averages are similar amongst different movies of **different** revenues.  \n",
    "  \n",
    "  \n",
    "- Distribution for years of release appears to be skewed to the left which indicates that many movies in this dataset were released in more recent years.  \n",
    "  \n",
    "  \n",
    "- Distribution for movies runtime is skewed to the right which indicate the presence of outlier(s) which in turn falsely increase the mean runtime.\n",
    " - one way to handle this, is to report the median runtime—since the median is immune to such outlier(s)— rather than the mean.\n",
    " - another way is to remove outliers using the 1.5 IQR rule  \n",
    "   \n",
    "     \n",
    "- Distribution for revenue is skewed to the right which indicates that there are movies with higher revenue than most of the other movies in the dataset. However, those kind of outliers are what my first posed research question is dependent on and so, I am inclined to keep them. But, as for lower bound outliers such as zeros, they would skew certain types of calculation such as calculating proportions, since zeros do not contribute to the sum but rather to the count that we divide by in the denominator and give biased results when compared with different proportions.  \n",
    "  \n",
    "p.s. In the analysis of the first question later on in this notebook, I'm going to calculate proportion of revenue for all movies compared to proportion of top revenue movies"
   ]
  },
  {
   "cell_type": "markdown",
   "metadata": {},
   "source": [
    "#### overview of outliers\n",
    "- Initially, I'll use the median as the baseline to assess presence of outliers by filtering the dataset for rows where the revenue is less than its median since the revenue column is the most important feature for this analysis."
   ]
  },
  {
   "cell_type": "code",
   "execution_count": 9,
   "metadata": {},
   "outputs": [
    {
     "data": {
      "text/plain": [
       "0.0"
      ]
     },
     "execution_count": 9,
     "metadata": {},
     "output_type": "execute_result"
    }
   ],
   "source": [
    "# Calcualting median of revenues\n",
    "median = df_mov['revenue'].median()\n",
    "median"
   ]
  },
  {
   "cell_type": "markdown",
   "metadata": {},
   "source": [
    "since the above median is zero! I'm going to pull the rows where revenue is equal to the median and not less than it, since there are no negative values in the revenue column."
   ]
  },
  {
   "cell_type": "code",
   "execution_count": 10,
   "metadata": {},
   "outputs": [
    {
     "data": {
      "text/html": [
       "<div>\n",
       "<style scoped>\n",
       "    .dataframe tbody tr th:only-of-type {\n",
       "        vertical-align: middle;\n",
       "    }\n",
       "\n",
       "    .dataframe tbody tr th {\n",
       "        vertical-align: top;\n",
       "    }\n",
       "\n",
       "    .dataframe thead th {\n",
       "        text-align: right;\n",
       "    }\n",
       "</style>\n",
       "<table border=\"1\" class=\"dataframe\">\n",
       "  <thead>\n",
       "    <tr style=\"text-align: right;\">\n",
       "      <th></th>\n",
       "      <th>id</th>\n",
       "      <th>popularity</th>\n",
       "      <th>budget</th>\n",
       "      <th>revenue</th>\n",
       "      <th>original_title</th>\n",
       "      <th>runtime</th>\n",
       "      <th>genres</th>\n",
       "      <th>release_date</th>\n",
       "      <th>vote_count</th>\n",
       "      <th>vote_average</th>\n",
       "      <th>release_year</th>\n",
       "      <th>budget_adj</th>\n",
       "      <th>revenue_adj</th>\n",
       "    </tr>\n",
       "  </thead>\n",
       "  <tbody>\n",
       "    <tr>\n",
       "      <th>48</th>\n",
       "      <td>265208</td>\n",
       "      <td>2.932340</td>\n",
       "      <td>30000000</td>\n",
       "      <td>0</td>\n",
       "      <td>Wild Card</td>\n",
       "      <td>92</td>\n",
       "      <td>Thriller|Crime|Drama</td>\n",
       "      <td>1/14/15</td>\n",
       "      <td>481</td>\n",
       "      <td>5.3</td>\n",
       "      <td>2015</td>\n",
       "      <td>2.759999e+07</td>\n",
       "      <td>0.0</td>\n",
       "    </tr>\n",
       "    <tr>\n",
       "      <th>67</th>\n",
       "      <td>334074</td>\n",
       "      <td>2.331636</td>\n",
       "      <td>20000000</td>\n",
       "      <td>0</td>\n",
       "      <td>Survivor</td>\n",
       "      <td>96</td>\n",
       "      <td>Crime|Thriller|Action</td>\n",
       "      <td>5/21/15</td>\n",
       "      <td>280</td>\n",
       "      <td>5.4</td>\n",
       "      <td>2015</td>\n",
       "      <td>1.839999e+07</td>\n",
       "      <td>0.0</td>\n",
       "    </tr>\n",
       "    <tr>\n",
       "      <th>74</th>\n",
       "      <td>347096</td>\n",
       "      <td>2.165433</td>\n",
       "      <td>0</td>\n",
       "      <td>0</td>\n",
       "      <td>Mythica: The Darkspore</td>\n",
       "      <td>108</td>\n",
       "      <td>Action|Adventure|Fantasy</td>\n",
       "      <td>6/24/15</td>\n",
       "      <td>27</td>\n",
       "      <td>5.1</td>\n",
       "      <td>2015</td>\n",
       "      <td>0.000000e+00</td>\n",
       "      <td>0.0</td>\n",
       "    </tr>\n",
       "    <tr>\n",
       "      <th>75</th>\n",
       "      <td>308369</td>\n",
       "      <td>2.141506</td>\n",
       "      <td>0</td>\n",
       "      <td>0</td>\n",
       "      <td>Me and Earl and the Dying Girl</td>\n",
       "      <td>105</td>\n",
       "      <td>Comedy|Drama</td>\n",
       "      <td>6/12/15</td>\n",
       "      <td>569</td>\n",
       "      <td>7.7</td>\n",
       "      <td>2015</td>\n",
       "      <td>0.000000e+00</td>\n",
       "      <td>0.0</td>\n",
       "    </tr>\n",
       "    <tr>\n",
       "      <th>92</th>\n",
       "      <td>370687</td>\n",
       "      <td>1.876037</td>\n",
       "      <td>0</td>\n",
       "      <td>0</td>\n",
       "      <td>Mythica: The Necromancer</td>\n",
       "      <td>0</td>\n",
       "      <td>Fantasy|Action|Adventure</td>\n",
       "      <td>12/19/15</td>\n",
       "      <td>11</td>\n",
       "      <td>5.4</td>\n",
       "      <td>2015</td>\n",
       "      <td>0.000000e+00</td>\n",
       "      <td>0.0</td>\n",
       "    </tr>\n",
       "    <tr>\n",
       "      <th>...</th>\n",
       "      <td>...</td>\n",
       "      <td>...</td>\n",
       "      <td>...</td>\n",
       "      <td>...</td>\n",
       "      <td>...</td>\n",
       "      <td>...</td>\n",
       "      <td>...</td>\n",
       "      <td>...</td>\n",
       "      <td>...</td>\n",
       "      <td>...</td>\n",
       "      <td>...</td>\n",
       "      <td>...</td>\n",
       "      <td>...</td>\n",
       "    </tr>\n",
       "    <tr>\n",
       "      <th>10861</th>\n",
       "      <td>21</td>\n",
       "      <td>0.080598</td>\n",
       "      <td>0</td>\n",
       "      <td>0</td>\n",
       "      <td>The Endless Summer</td>\n",
       "      <td>95</td>\n",
       "      <td>Documentary</td>\n",
       "      <td>6/15/66</td>\n",
       "      <td>11</td>\n",
       "      <td>7.4</td>\n",
       "      <td>1966</td>\n",
       "      <td>0.000000e+00</td>\n",
       "      <td>0.0</td>\n",
       "    </tr>\n",
       "    <tr>\n",
       "      <th>10862</th>\n",
       "      <td>20379</td>\n",
       "      <td>0.065543</td>\n",
       "      <td>0</td>\n",
       "      <td>0</td>\n",
       "      <td>Grand Prix</td>\n",
       "      <td>176</td>\n",
       "      <td>Action|Adventure|Drama</td>\n",
       "      <td>12/21/66</td>\n",
       "      <td>20</td>\n",
       "      <td>5.7</td>\n",
       "      <td>1966</td>\n",
       "      <td>0.000000e+00</td>\n",
       "      <td>0.0</td>\n",
       "    </tr>\n",
       "    <tr>\n",
       "      <th>10863</th>\n",
       "      <td>39768</td>\n",
       "      <td>0.065141</td>\n",
       "      <td>0</td>\n",
       "      <td>0</td>\n",
       "      <td>Beregis Avtomobilya</td>\n",
       "      <td>94</td>\n",
       "      <td>Mystery|Comedy</td>\n",
       "      <td>1/1/66</td>\n",
       "      <td>11</td>\n",
       "      <td>6.5</td>\n",
       "      <td>1966</td>\n",
       "      <td>0.000000e+00</td>\n",
       "      <td>0.0</td>\n",
       "    </tr>\n",
       "    <tr>\n",
       "      <th>10864</th>\n",
       "      <td>21449</td>\n",
       "      <td>0.064317</td>\n",
       "      <td>0</td>\n",
       "      <td>0</td>\n",
       "      <td>What's Up, Tiger Lily?</td>\n",
       "      <td>80</td>\n",
       "      <td>Action|Comedy</td>\n",
       "      <td>11/2/66</td>\n",
       "      <td>22</td>\n",
       "      <td>5.4</td>\n",
       "      <td>1966</td>\n",
       "      <td>0.000000e+00</td>\n",
       "      <td>0.0</td>\n",
       "    </tr>\n",
       "    <tr>\n",
       "      <th>10865</th>\n",
       "      <td>22293</td>\n",
       "      <td>0.035919</td>\n",
       "      <td>19000</td>\n",
       "      <td>0</td>\n",
       "      <td>Manos: The Hands of Fate</td>\n",
       "      <td>74</td>\n",
       "      <td>Horror</td>\n",
       "      <td>11/15/66</td>\n",
       "      <td>15</td>\n",
       "      <td>1.5</td>\n",
       "      <td>1966</td>\n",
       "      <td>1.276423e+05</td>\n",
       "      <td>0.0</td>\n",
       "    </tr>\n",
       "  </tbody>\n",
       "</table>\n",
       "<p>6016 rows × 13 columns</p>\n",
       "</div>"
      ],
      "text/plain": [
       "           id  popularity    budget  revenue                  original_title  \\\n",
       "48     265208    2.932340  30000000        0                       Wild Card   \n",
       "67     334074    2.331636  20000000        0                        Survivor   \n",
       "74     347096    2.165433         0        0          Mythica: The Darkspore   \n",
       "75     308369    2.141506         0        0  Me and Earl and the Dying Girl   \n",
       "92     370687    1.876037         0        0        Mythica: The Necromancer   \n",
       "...       ...         ...       ...      ...                             ...   \n",
       "10861      21    0.080598         0        0              The Endless Summer   \n",
       "10862   20379    0.065543         0        0                      Grand Prix   \n",
       "10863   39768    0.065141         0        0             Beregis Avtomobilya   \n",
       "10864   21449    0.064317         0        0          What's Up, Tiger Lily?   \n",
       "10865   22293    0.035919     19000        0        Manos: The Hands of Fate   \n",
       "\n",
       "       runtime                    genres release_date  vote_count  \\\n",
       "48          92      Thriller|Crime|Drama      1/14/15         481   \n",
       "67          96     Crime|Thriller|Action      5/21/15         280   \n",
       "74         108  Action|Adventure|Fantasy      6/24/15          27   \n",
       "75         105              Comedy|Drama      6/12/15         569   \n",
       "92           0  Fantasy|Action|Adventure     12/19/15          11   \n",
       "...        ...                       ...          ...         ...   \n",
       "10861       95               Documentary      6/15/66          11   \n",
       "10862      176    Action|Adventure|Drama     12/21/66          20   \n",
       "10863       94            Mystery|Comedy       1/1/66          11   \n",
       "10864       80             Action|Comedy      11/2/66          22   \n",
       "10865       74                    Horror     11/15/66          15   \n",
       "\n",
       "       vote_average  release_year    budget_adj  revenue_adj  \n",
       "48              5.3          2015  2.759999e+07          0.0  \n",
       "67              5.4          2015  1.839999e+07          0.0  \n",
       "74              5.1          2015  0.000000e+00          0.0  \n",
       "75              7.7          2015  0.000000e+00          0.0  \n",
       "92              5.4          2015  0.000000e+00          0.0  \n",
       "...             ...           ...           ...          ...  \n",
       "10861           7.4          1966  0.000000e+00          0.0  \n",
       "10862           5.7          1966  0.000000e+00          0.0  \n",
       "10863           6.5          1966  0.000000e+00          0.0  \n",
       "10864           5.4          1966  0.000000e+00          0.0  \n",
       "10865           1.5          1966  1.276423e+05          0.0  \n",
       "\n",
       "[6016 rows x 13 columns]"
      ]
     },
     "execution_count": 10,
     "metadata": {},
     "output_type": "execute_result"
    }
   ],
   "source": [
    "# filtering rows where revenue equals its median of zero\n",
    "df_mov[df_mov['revenue'] == median]"
   ]
  },
  {
   "cell_type": "markdown",
   "metadata": {},
   "source": [
    "#### As seen above, there is a significant amount of zero values in the revenue column\n",
    "Elaborating on the two points I wrote earlier—and to take my own advice!— in section 2.2 of this notebook—although, technically, zeros are not like NULLs, but luckily, the same principles still apply—\n",
    "> 2. If the column was pivotal to my analysis and closely associated with another column of interest, I would suggest to drop the missing values, rather than completely dropping the column.\n",
    "> 3. If dropping the missing values of the column in question affects the analysis of the other columns—especially for a small sample size—I would drop the column itself entirely from the dataset, or seperate it from the rest of the dataset to analyse it independently.  \n",
    "\n",
    "- The first point describes this scenario well since the revenue column is the cornerstone of the first posed question:\n",
    "> Characteristics associated with high revenue movies  \n",
    "\n",
    "    and that it's closely related to other columns in this dataset. So based on this point, I would drop the lower bound values of the revenue column and the corresponding values of the other columns.  \n",
    "      \n",
    "        \n",
    "        \n",
    "- the second point seems to counter the first one but only because the genres and the release year columns are the cornerstones of the second posed question for this analysis:\n",
    "> Which genres are most popular from year to year?  \n",
    "  \n",
    "    And since they're not related to the revenue column in the analysis of the second question, dropping rows in the genres and the release year columns that correspond with the lower bound values in the revenue column would affect the results of the second analysis.  \n",
    "    As the second point's proposed solution which is to seperate it from the columns that could be affected, I'm going to make a copy of the original dataset to make it specific for the first type of analysis. "
   ]
  },
  {
   "cell_type": "markdown",
   "metadata": {},
   "source": [
    "#### removing outliers\n",
    "- First, as discussed above, I'm going to make a copy of the original dataset.\n",
    "- Second, I'm going to remove values of zero in the revenue column\n",
    "- Third, I'm going to remove lower bound outliers based on the 1.5 IQR Rule."
   ]
  },
  {
   "cell_type": "code",
   "execution_count": 11,
   "metadata": {},
   "outputs": [],
   "source": [
    "# making copy of the original dataset\n",
    "df_mov_copy = df_mov.copy()"
   ]
  },
  {
   "cell_type": "code",
   "execution_count": 12,
   "metadata": {},
   "outputs": [
    {
     "data": {
      "text/html": [
       "<div>\n",
       "<style scoped>\n",
       "    .dataframe tbody tr th:only-of-type {\n",
       "        vertical-align: middle;\n",
       "    }\n",
       "\n",
       "    .dataframe tbody tr th {\n",
       "        vertical-align: top;\n",
       "    }\n",
       "\n",
       "    .dataframe thead th {\n",
       "        text-align: right;\n",
       "    }\n",
       "</style>\n",
       "<table border=\"1\" class=\"dataframe\">\n",
       "  <thead>\n",
       "    <tr style=\"text-align: right;\">\n",
       "      <th></th>\n",
       "      <th>id</th>\n",
       "      <th>popularity</th>\n",
       "      <th>budget</th>\n",
       "      <th>revenue</th>\n",
       "      <th>original_title</th>\n",
       "      <th>runtime</th>\n",
       "      <th>genres</th>\n",
       "      <th>release_date</th>\n",
       "      <th>vote_count</th>\n",
       "      <th>vote_average</th>\n",
       "      <th>release_year</th>\n",
       "      <th>budget_adj</th>\n",
       "      <th>revenue_adj</th>\n",
       "    </tr>\n",
       "  </thead>\n",
       "  <tbody>\n",
       "    <tr>\n",
       "      <th>0</th>\n",
       "      <td>135397</td>\n",
       "      <td>32.985763</td>\n",
       "      <td>150000000</td>\n",
       "      <td>1513528810</td>\n",
       "      <td>Jurassic World</td>\n",
       "      <td>124</td>\n",
       "      <td>Action|Adventure|Science Fiction|Thriller</td>\n",
       "      <td>6/9/15</td>\n",
       "      <td>5562</td>\n",
       "      <td>6.5</td>\n",
       "      <td>2015</td>\n",
       "      <td>1.379999e+08</td>\n",
       "      <td>1.392446e+09</td>\n",
       "    </tr>\n",
       "    <tr>\n",
       "      <th>1</th>\n",
       "      <td>76341</td>\n",
       "      <td>28.419936</td>\n",
       "      <td>150000000</td>\n",
       "      <td>378436354</td>\n",
       "      <td>Mad Max: Fury Road</td>\n",
       "      <td>120</td>\n",
       "      <td>Action|Adventure|Science Fiction|Thriller</td>\n",
       "      <td>5/13/15</td>\n",
       "      <td>6185</td>\n",
       "      <td>7.1</td>\n",
       "      <td>2015</td>\n",
       "      <td>1.379999e+08</td>\n",
       "      <td>3.481613e+08</td>\n",
       "    </tr>\n",
       "    <tr>\n",
       "      <th>2</th>\n",
       "      <td>262500</td>\n",
       "      <td>13.112507</td>\n",
       "      <td>110000000</td>\n",
       "      <td>295238201</td>\n",
       "      <td>Insurgent</td>\n",
       "      <td>119</td>\n",
       "      <td>Adventure|Science Fiction|Thriller</td>\n",
       "      <td>3/18/15</td>\n",
       "      <td>2480</td>\n",
       "      <td>6.3</td>\n",
       "      <td>2015</td>\n",
       "      <td>1.012000e+08</td>\n",
       "      <td>2.716190e+08</td>\n",
       "    </tr>\n",
       "    <tr>\n",
       "      <th>3</th>\n",
       "      <td>140607</td>\n",
       "      <td>11.173104</td>\n",
       "      <td>200000000</td>\n",
       "      <td>2068178225</td>\n",
       "      <td>Star Wars: The Force Awakens</td>\n",
       "      <td>136</td>\n",
       "      <td>Action|Adventure|Science Fiction|Fantasy</td>\n",
       "      <td>12/15/15</td>\n",
       "      <td>5292</td>\n",
       "      <td>7.5</td>\n",
       "      <td>2015</td>\n",
       "      <td>1.839999e+08</td>\n",
       "      <td>1.902723e+09</td>\n",
       "    </tr>\n",
       "    <tr>\n",
       "      <th>4</th>\n",
       "      <td>168259</td>\n",
       "      <td>9.335014</td>\n",
       "      <td>190000000</td>\n",
       "      <td>1506249360</td>\n",
       "      <td>Furious 7</td>\n",
       "      <td>137</td>\n",
       "      <td>Action|Crime|Thriller</td>\n",
       "      <td>4/1/15</td>\n",
       "      <td>2947</td>\n",
       "      <td>7.3</td>\n",
       "      <td>2015</td>\n",
       "      <td>1.747999e+08</td>\n",
       "      <td>1.385749e+09</td>\n",
       "    </tr>\n",
       "    <tr>\n",
       "      <th>...</th>\n",
       "      <td>...</td>\n",
       "      <td>...</td>\n",
       "      <td>...</td>\n",
       "      <td>...</td>\n",
       "      <td>...</td>\n",
       "      <td>...</td>\n",
       "      <td>...</td>\n",
       "      <td>...</td>\n",
       "      <td>...</td>\n",
       "      <td>...</td>\n",
       "      <td>...</td>\n",
       "      <td>...</td>\n",
       "      <td>...</td>\n",
       "    </tr>\n",
       "    <tr>\n",
       "      <th>10822</th>\n",
       "      <td>396</td>\n",
       "      <td>0.670274</td>\n",
       "      <td>7500000</td>\n",
       "      <td>33736689</td>\n",
       "      <td>Who's Afraid of Virginia Woolf?</td>\n",
       "      <td>131</td>\n",
       "      <td>Drama</td>\n",
       "      <td>6/21/66</td>\n",
       "      <td>74</td>\n",
       "      <td>7.5</td>\n",
       "      <td>1966</td>\n",
       "      <td>5.038511e+07</td>\n",
       "      <td>2.266436e+08</td>\n",
       "    </tr>\n",
       "    <tr>\n",
       "      <th>10828</th>\n",
       "      <td>5780</td>\n",
       "      <td>0.402730</td>\n",
       "      <td>3000000</td>\n",
       "      <td>13000000</td>\n",
       "      <td>Torn Curtain</td>\n",
       "      <td>128</td>\n",
       "      <td>Mystery|Thriller</td>\n",
       "      <td>7/13/66</td>\n",
       "      <td>46</td>\n",
       "      <td>6.3</td>\n",
       "      <td>1966</td>\n",
       "      <td>2.015404e+07</td>\n",
       "      <td>8.733419e+07</td>\n",
       "    </tr>\n",
       "    <tr>\n",
       "      <th>10829</th>\n",
       "      <td>6644</td>\n",
       "      <td>0.395668</td>\n",
       "      <td>4653000</td>\n",
       "      <td>6000000</td>\n",
       "      <td>El Dorado</td>\n",
       "      <td>120</td>\n",
       "      <td>Action|Western</td>\n",
       "      <td>12/17/66</td>\n",
       "      <td>36</td>\n",
       "      <td>6.9</td>\n",
       "      <td>1966</td>\n",
       "      <td>3.125892e+07</td>\n",
       "      <td>4.030809e+07</td>\n",
       "    </tr>\n",
       "    <tr>\n",
       "      <th>10835</th>\n",
       "      <td>5923</td>\n",
       "      <td>0.299911</td>\n",
       "      <td>12000000</td>\n",
       "      <td>20000000</td>\n",
       "      <td>The Sand Pebbles</td>\n",
       "      <td>182</td>\n",
       "      <td>Action|Adventure|Drama|War|Romance</td>\n",
       "      <td>12/20/66</td>\n",
       "      <td>28</td>\n",
       "      <td>7.0</td>\n",
       "      <td>1966</td>\n",
       "      <td>8.061618e+07</td>\n",
       "      <td>1.343603e+08</td>\n",
       "    </tr>\n",
       "    <tr>\n",
       "      <th>10848</th>\n",
       "      <td>2161</td>\n",
       "      <td>0.207257</td>\n",
       "      <td>5115000</td>\n",
       "      <td>12000000</td>\n",
       "      <td>Fantastic Voyage</td>\n",
       "      <td>100</td>\n",
       "      <td>Adventure|Science Fiction</td>\n",
       "      <td>8/24/66</td>\n",
       "      <td>42</td>\n",
       "      <td>6.7</td>\n",
       "      <td>1966</td>\n",
       "      <td>3.436265e+07</td>\n",
       "      <td>8.061618e+07</td>\n",
       "    </tr>\n",
       "  </tbody>\n",
       "</table>\n",
       "<p>4850 rows × 13 columns</p>\n",
       "</div>"
      ],
      "text/plain": [
       "           id  popularity     budget     revenue  \\\n",
       "0      135397   32.985763  150000000  1513528810   \n",
       "1       76341   28.419936  150000000   378436354   \n",
       "2      262500   13.112507  110000000   295238201   \n",
       "3      140607   11.173104  200000000  2068178225   \n",
       "4      168259    9.335014  190000000  1506249360   \n",
       "...       ...         ...        ...         ...   \n",
       "10822     396    0.670274    7500000    33736689   \n",
       "10828    5780    0.402730    3000000    13000000   \n",
       "10829    6644    0.395668    4653000     6000000   \n",
       "10835    5923    0.299911   12000000    20000000   \n",
       "10848    2161    0.207257    5115000    12000000   \n",
       "\n",
       "                        original_title  runtime  \\\n",
       "0                       Jurassic World      124   \n",
       "1                   Mad Max: Fury Road      120   \n",
       "2                            Insurgent      119   \n",
       "3         Star Wars: The Force Awakens      136   \n",
       "4                            Furious 7      137   \n",
       "...                                ...      ...   \n",
       "10822  Who's Afraid of Virginia Woolf?      131   \n",
       "10828                     Torn Curtain      128   \n",
       "10829                        El Dorado      120   \n",
       "10835                 The Sand Pebbles      182   \n",
       "10848                 Fantastic Voyage      100   \n",
       "\n",
       "                                          genres release_date  vote_count  \\\n",
       "0      Action|Adventure|Science Fiction|Thriller       6/9/15        5562   \n",
       "1      Action|Adventure|Science Fiction|Thriller      5/13/15        6185   \n",
       "2             Adventure|Science Fiction|Thriller      3/18/15        2480   \n",
       "3       Action|Adventure|Science Fiction|Fantasy     12/15/15        5292   \n",
       "4                          Action|Crime|Thriller       4/1/15        2947   \n",
       "...                                          ...          ...         ...   \n",
       "10822                                      Drama      6/21/66          74   \n",
       "10828                           Mystery|Thriller      7/13/66          46   \n",
       "10829                             Action|Western     12/17/66          36   \n",
       "10835         Action|Adventure|Drama|War|Romance     12/20/66          28   \n",
       "10848                  Adventure|Science Fiction      8/24/66          42   \n",
       "\n",
       "       vote_average  release_year    budget_adj   revenue_adj  \n",
       "0               6.5          2015  1.379999e+08  1.392446e+09  \n",
       "1               7.1          2015  1.379999e+08  3.481613e+08  \n",
       "2               6.3          2015  1.012000e+08  2.716190e+08  \n",
       "3               7.5          2015  1.839999e+08  1.902723e+09  \n",
       "4               7.3          2015  1.747999e+08  1.385749e+09  \n",
       "...             ...           ...           ...           ...  \n",
       "10822           7.5          1966  5.038511e+07  2.266436e+08  \n",
       "10828           6.3          1966  2.015404e+07  8.733419e+07  \n",
       "10829           6.9          1966  3.125892e+07  4.030809e+07  \n",
       "10835           7.0          1966  8.061618e+07  1.343603e+08  \n",
       "10848           6.7          1966  3.436265e+07  8.061618e+07  \n",
       "\n",
       "[4850 rows x 13 columns]"
      ]
     },
     "execution_count": 12,
     "metadata": {},
     "output_type": "execute_result"
    }
   ],
   "source": [
    "# Removing all values of zero from the revenue column\n",
    "df_mov_copy = df_mov_copy.loc[df_mov_copy['revenue'] > 0]\n",
    "df_mov_copy"
   ]
  },
  {
   "cell_type": "code",
   "execution_count": 13,
   "metadata": {},
   "outputs": [
    {
     "data": {
      "text/plain": [
       "-130607148.25"
      ]
     },
     "execution_count": 13,
     "metadata": {},
     "output_type": "execute_result"
    }
   ],
   "source": [
    "# removing lower bound outliers with the 1.5 IQR rule\n",
    "q1 = df_mov_copy['revenue'].quantile(0.25) # getting first quartile\n",
    "q3 = df_mov_copy['revenue'].quantile(0.75) # getting third quartile\n",
    "iqr = q3 - q1 # Calculating the IQR\n",
    "low_outlier = q1 - 1.5 * iqr # 1.5 IQR rule for low outliers\n",
    "low_outlier"
   ]
  },
  {
   "cell_type": "code",
   "execution_count": 14,
   "metadata": {},
   "outputs": [],
   "source": [
    "# Filtering rows where the revenue is more than the low outlier threshold\n",
    "mask = (df_mov_copy['revenue'] > low_outlier)\n",
    "df_mov_copy = df_mov_copy.loc[mask]"
   ]
  },
  {
   "cell_type": "markdown",
   "metadata": {},
   "source": [
    "Since there are no values crossing the low outlier threshold of -130607148.25! the dataset won't have changed"
   ]
  },
  {
   "cell_type": "markdown",
   "metadata": {},
   "source": [
    "### Data Cleaning\n",
    "#### along with the data cleaning and wrangling that took place in the above section, there remains checking for duplicate rows.\n",
    "- For this kind of dataset, it doesn't seem to make sense keeping rows identical of all their features.\n",
    "- And considering that there are large numbers like revenues, these being unnecessarily duplicated could give biased results when performing certain types of calculation.  \n",
    "\n",
    "So, I'm going to drop rows with such characteristics."
   ]
  },
  {
   "cell_type": "code",
   "execution_count": 15,
   "metadata": {
    "jupyter": {
     "outputs_hidden": true
    }
   },
   "outputs": [],
   "source": [
    "# dropping rows with all the same features\n",
    "df_mov.drop_duplicates(inplace=True)"
   ]
  },
  {
   "cell_type": "markdown",
   "metadata": {},
   "source": [
    "<a id='eda'></a>\n",
    "## Exploratory Data Analysis\n",
    "\n",
    "### Research Question 1 (Characteristics associated with high revenue movies)"
   ]
  },
  {
   "cell_type": "code",
   "execution_count": 16,
   "metadata": {
    "jupyter": {
     "outputs_hidden": true
    }
   },
   "outputs": [],
   "source": [
    "# criteria for top revenue movies with one-hundred million or more in revenue\n",
    "top_revenue = df_mov_copy.query('revenue >= 1e08')"
   ]
  },
  {
   "cell_type": "markdown",
   "metadata": {},
   "source": [
    "#### There is a weak and positive linear relationship between budget and revenue\n",
    "#### provieded with the assumption that there might be a strong relationship between budget and revenue, this scatter plot below shows that there is actually a weak correlation between these two variables"
   ]
  },
  {
   "cell_type": "code",
   "execution_count": 17,
   "metadata": {},
   "outputs": [
    {
     "data": {
      "image/png": "[encoded data removed]",
      "text/plain": [
       "<Figure size 432x288 with 1 Axes>"
      ]
     },
     "metadata": {},
     "output_type": "display_data"
    }
   ],
   "source": [
    "# looking for correlation of the two variables in the top revenue movies\n",
    "top_revenue.plot(kind='scatter', x='budget', y='revenue');"
   ]
  },
  {
   "cell_type": "code",
   "execution_count": 18,
   "metadata": {},
   "outputs": [
    {
     "data": {
      "text/html": [
       "<div>\n",
       "<style scoped>\n",
       "    .dataframe tbody tr th:only-of-type {\n",
       "        vertical-align: middle;\n",
       "    }\n",
       "\n",
       "    .dataframe tbody tr th {\n",
       "        vertical-align: top;\n",
       "    }\n",
       "\n",
       "    .dataframe thead th {\n",
       "        text-align: right;\n",
       "    }\n",
       "</style>\n",
       "<table border=\"1\" class=\"dataframe\">\n",
       "  <thead>\n",
       "    <tr style=\"text-align: right;\">\n",
       "      <th></th>\n",
       "      <th>budget</th>\n",
       "      <th>revenue</th>\n",
       "    </tr>\n",
       "  </thead>\n",
       "  <tbody>\n",
       "    <tr>\n",
       "      <th>budget</th>\n",
       "      <td>1.000000</td>\n",
       "      <td>0.586141</td>\n",
       "    </tr>\n",
       "    <tr>\n",
       "      <th>revenue</th>\n",
       "      <td>0.586141</td>\n",
       "      <td>1.000000</td>\n",
       "    </tr>\n",
       "  </tbody>\n",
       "</table>\n",
       "</div>"
      ],
      "text/plain": [
       "           budget   revenue\n",
       "budget   1.000000  0.586141\n",
       "revenue  0.586141  1.000000"
      ]
     },
     "execution_count": 18,
     "metadata": {},
     "output_type": "execute_result"
    }
   ],
   "source": [
    "# calculating the Pearson correlation coeffecient for the scatter plot above\n",
    "r = top_revenue[['budget', 'revenue']].corr(method='pearson', min_periods=1)\n",
    "r"
   ]
  },
  {
   "cell_type": "markdown",
   "metadata": {},
   "source": [
    "#### Similar to the coefficient of determination, although this is merely to find the difference of revenues between the two distributions\n",
    "- Despite the fact that the dataset for all the movies is larger than the dataset of high revenue movies,  approximately, 78% of the total revenue of all the movies is described by the total revenue in the top revenue movies"
   ]
  },
  {
   "cell_type": "code",
   "execution_count": 19,
   "metadata": {
    "scrolled": false
   },
   "outputs": [
    {
     "data": {
      "image/png": "[encoded data removed]",
      "text/plain": [
       "<Figure size 504x432 with 1 Axes>"
      ]
     },
     "metadata": {},
     "output_type": "display_data"
    }
   ],
   "source": [
    "x, y = top_revenue.revenue.sum(), df_mov_copy.revenue.sum() # total revenues for both datasets\n",
    "described = ((1-((y - x) / y)) * 100).round() # the formula for coefficient of determination\n",
    "\n",
    "plt.subplots(figsize=(7,6))\n",
    "\n",
    "plt.bar('top movies', described, color='black')\n",
    "plt.bar('all movies', 100) # setting up the y-scale to 100%\n",
    "\n",
    "plt.title('total revenue described by top revenue movies', fontsize=14)\n",
    "plt.xlabel('movies', fontsize=14)\n",
    "plt.ylabel('total revenue %', fontsize=14)\n",
    "plt.xticks(fontsize=14)\n",
    "plt.yticks(fontsize=14);"
   ]
  },
  {
   "cell_type": "markdown",
   "metadata": {},
   "source": [
    "Alternatively, proportions of high revenue movies and total revenue of all movies\n",
    "#### Proportion revenue of top revenue movies is significantly higher than proportion of revenue of all the movies"
   ]
  },
  {
   "cell_type": "code",
   "execution_count": 20,
   "metadata": {},
   "outputs": [
    {
     "data": {
      "image/png": "[encoded data removed]",
      "text/plain": [
       "<Figure size 504x432 with 1 Axes>"
      ]
     },
     "metadata": {},
     "output_type": "display_data"
    }
   ],
   "source": [
    "top_total = top_revenue.shape[0]\n",
    "all_total = df_mov_copy.shape[0]\n",
    "top_proportion = x/top_total\n",
    "all_proportion = y/all_total\n",
    "\n",
    "plt.subplots(figsize=(7,6))\n",
    "\n",
    "plt.bar('top movies', top_proportion, color='black')\n",
    "plt.bar('all movies', all_proportion)\n",
    "\n",
    "plt.title('proportions of revenues by movies revenue thresholds', fontsize=14)\n",
    "plt.xlabel('movies', fontsize=14)\n",
    "plt.ylabel('revenue proportion', fontsize=14)\n",
    "plt.xticks(fontsize=14)\n",
    "plt.yticks(fontsize=14);"
   ]
  },
  {
   "cell_type": "markdown",
   "metadata": {},
   "source": [
    "#### To test out the assumption that high revenue movies should be associated with higher budget and to get an idea of what the median revenue in a dataset of high revenue movies is, I have provided the following statistics.\n",
    "Note(s):\n",
    "> A ROI estimate of the movies can be extrapolated with these statistics for the revenue and budget features  \n",
    "\n",
    "> as a fun fact—a fact specific to this dataset at least—The median runtime for high revenue movies is an hour and 52 minutes(112 minutes)."
   ]
  },
  {
   "cell_type": "code",
   "execution_count": 21,
   "metadata": {},
   "outputs": [
    {
     "data": {
      "text/html": [
       "<div>\n",
       "<style scoped>\n",
       "    .dataframe tbody tr th:only-of-type {\n",
       "        vertical-align: middle;\n",
       "    }\n",
       "\n",
       "    .dataframe tbody tr th {\n",
       "        vertical-align: top;\n",
       "    }\n",
       "\n",
       "    .dataframe thead th {\n",
       "        text-align: right;\n",
       "    }\n",
       "</style>\n",
       "<table border=\"1\" class=\"dataframe\">\n",
       "  <thead>\n",
       "    <tr style=\"text-align: right;\">\n",
       "      <th></th>\n",
       "      <th>budget</th>\n",
       "      <th>revenue</th>\n",
       "      <th>runtime</th>\n",
       "    </tr>\n",
       "  </thead>\n",
       "  <tbody>\n",
       "    <tr>\n",
       "      <th>50%</th>\n",
       "      <td>5.840000e+07</td>\n",
       "      <td>1.949164e+08</td>\n",
       "      <td>112.000000</td>\n",
       "    </tr>\n",
       "    <tr>\n",
       "      <th>min</th>\n",
       "      <td>0.000000e+00</td>\n",
       "      <td>1.000000e+08</td>\n",
       "      <td>72.000000</td>\n",
       "    </tr>\n",
       "    <tr>\n",
       "      <th>max</th>\n",
       "      <td>3.800000e+08</td>\n",
       "      <td>2.781506e+09</td>\n",
       "      <td>705.000000</td>\n",
       "    </tr>\n",
       "    <tr>\n",
       "      <th>std</th>\n",
       "      <td>5.425897e+07</td>\n",
       "      <td>2.356878e+08</td>\n",
       "      <td>26.876157</td>\n",
       "    </tr>\n",
       "    <tr>\n",
       "      <th>mean</th>\n",
       "      <td>7.036850e+07</td>\n",
       "      <td>2.779253e+08</td>\n",
       "      <td>115.309406</td>\n",
       "    </tr>\n",
       "  </tbody>\n",
       "</table>\n",
       "</div>"
      ],
      "text/plain": [
       "            budget       revenue     runtime\n",
       "50%   5.840000e+07  1.949164e+08  112.000000\n",
       "min   0.000000e+00  1.000000e+08   72.000000\n",
       "max   3.800000e+08  2.781506e+09  705.000000\n",
       "std   5.425897e+07  2.356878e+08   26.876157\n",
       "mean  7.036850e+07  2.779253e+08  115.309406"
      ]
     },
     "execution_count": 21,
     "metadata": {},
     "output_type": "execute_result"
    }
   ],
   "source": [
    "top_revenue.describe().loc[['50%', 'min', 'max', 'std', 'mean'], ['budget', 'revenue', 'runtime']]"
   ]
  },
  {
   "cell_type": "markdown",
   "metadata": {},
   "source": [
    "#### There is a clear trend suggesting a progressive decade-by-decade increase in movies revenue\n",
    "\n",
    "#### Note(s):\n",
    "> As the years go by, movies seem to increase in revenue. This is a relationship which might not be possible to accuretly identify its origin with merely the kinds of features provided in this dataset. And this could be accounted as a limitation in the availability of data at hand."
   ]
  },
  {
   "cell_type": "code",
   "execution_count": 22,
   "metadata": {},
   "outputs": [
    {
     "data": {
      "image/png": "[encoded data removed]",
      "text/plain": [
       "<Figure size 648x504 with 1 Axes>"
      ]
     },
     "metadata": {},
     "output_type": "display_data"
    }
   ],
   "source": [
    "rev_by_year = top_revenue.groupby('release_year')['revenue'].sum()\n",
    "plt.subplots(figsize=(9,7))\n",
    "plt.plot(rev_by_year)\n",
    "plt.title('decade-by-decade total movies revenue', fontsize=14)\n",
    "plt.xlabel('decade', fontsize=14)\n",
    "plt.ylabel('total revenue(bn)', fontsize=14);"
   ]
  },
  {
   "cell_type": "markdown",
   "metadata": {},
   "source": [
    "### Research Question 2  (most popular genres from year to year)"
   ]
  },
  {
   "cell_type": "code",
   "execution_count": 23,
   "metadata": {},
   "outputs": [],
   "source": [
    "grouped = df_mov.groupby('release_year')['genres']"
   ]
  },
  {
   "cell_type": "code",
   "execution_count": 24,
   "metadata": {},
   "outputs": [],
   "source": [
    "def most_popular(groups):\n",
    "    genres_dictionary = dict()\n",
    "    for index, grouping in groups:\n",
    "        genres = []\n",
    "        for row in grouping:\n",
    "            if isinstance(row, str): # bypassing null and other data types beside strings\n",
    "                for genre in row.split('|'):\n",
    "                    genres.append(genre) \n",
    "            else:\n",
    "                continue\n",
    "        genres = pd.Series(genres).value_counts() # Converting list to series to perform series-related operations\n",
    "        genres_dictionary[index] = np.sort(np.array(genres.index[:3])) # Getting and sorting alphabetically the top three genres for each year\n",
    "    genres_df = pd.DataFrame(genres_dictionary) # Converting to dataframe for final display\n",
    "    return genres_df"
   ]
  },
  {
   "cell_type": "markdown",
   "metadata": {},
   "source": [
    "#### A lot of the years are associated with the movie genres Comedy, Drama, and Thriller\n",
    "Note(s):\n",
    "> A range of 10 years—from 2005 to 2015—years of release share the same top genres for their respective movies."
   ]
  },
  {
   "cell_type": "code",
   "execution_count": 25,
   "metadata": {},
   "outputs": [
    {
     "data": {
      "text/html": [
       "<div>\n",
       "<style scoped>\n",
       "    .dataframe tbody tr th:only-of-type {\n",
       "        vertical-align: middle;\n",
       "    }\n",
       "\n",
       "    .dataframe tbody tr th {\n",
       "        vertical-align: top;\n",
       "    }\n",
       "\n",
       "    .dataframe thead th {\n",
       "        text-align: right;\n",
       "    }\n",
       "</style>\n",
       "<table border=\"1\" class=\"dataframe\">\n",
       "  <thead>\n",
       "    <tr style=\"text-align: right;\">\n",
       "      <th></th>\n",
       "      <th>1960</th>\n",
       "      <th>1961</th>\n",
       "      <th>1962</th>\n",
       "      <th>1963</th>\n",
       "      <th>1964</th>\n",
       "      <th>1965</th>\n",
       "      <th>1966</th>\n",
       "      <th>1967</th>\n",
       "      <th>1968</th>\n",
       "      <th>1969</th>\n",
       "      <th>1970</th>\n",
       "      <th>1971</th>\n",
       "      <th>1972</th>\n",
       "      <th>1973</th>\n",
       "      <th>1974</th>\n",
       "      <th>1975</th>\n",
       "      <th>1976</th>\n",
       "      <th>1977</th>\n",
       "      <th>1978</th>\n",
       "      <th>1979</th>\n",
       "      <th>1980</th>\n",
       "      <th>1981</th>\n",
       "      <th>1982</th>\n",
       "      <th>1983</th>\n",
       "      <th>1984</th>\n",
       "      <th>1985</th>\n",
       "      <th>1986</th>\n",
       "      <th>1987</th>\n",
       "      <th>1988</th>\n",
       "      <th>1989</th>\n",
       "      <th>1990</th>\n",
       "      <th>1991</th>\n",
       "      <th>1992</th>\n",
       "      <th>1993</th>\n",
       "      <th>1994</th>\n",
       "      <th>1995</th>\n",
       "      <th>1996</th>\n",
       "      <th>1997</th>\n",
       "      <th>1998</th>\n",
       "      <th>1999</th>\n",
       "      <th>2000</th>\n",
       "      <th>2001</th>\n",
       "      <th>2002</th>\n",
       "      <th>2003</th>\n",
       "      <th>2004</th>\n",
       "      <th>2005</th>\n",
       "      <th>2006</th>\n",
       "      <th>2007</th>\n",
       "      <th>2008</th>\n",
       "      <th>2009</th>\n",
       "      <th>2010</th>\n",
       "      <th>2011</th>\n",
       "      <th>2012</th>\n",
       "      <th>2013</th>\n",
       "      <th>2014</th>\n",
       "      <th>2015</th>\n",
       "    </tr>\n",
       "  </thead>\n",
       "  <tbody>\n",
       "    <tr>\n",
       "      <th>0</th>\n",
       "      <td>Action</td>\n",
       "      <td>Comedy</td>\n",
       "      <td>Action</td>\n",
       "      <td>Comedy</td>\n",
       "      <td>Comedy</td>\n",
       "      <td>Action</td>\n",
       "      <td>Action</td>\n",
       "      <td>Comedy</td>\n",
       "      <td>Comedy</td>\n",
       "      <td>Action</td>\n",
       "      <td>Action</td>\n",
       "      <td>Action</td>\n",
       "      <td>Action</td>\n",
       "      <td>Crime</td>\n",
       "      <td>Crime</td>\n",
       "      <td>Comedy</td>\n",
       "      <td>Action</td>\n",
       "      <td>Action</td>\n",
       "      <td>Drama</td>\n",
       "      <td>Comedy</td>\n",
       "      <td>Action</td>\n",
       "      <td>Drama</td>\n",
       "      <td>Comedy</td>\n",
       "      <td>Comedy</td>\n",
       "      <td>Action</td>\n",
       "      <td>Action</td>\n",
       "      <td>Comedy</td>\n",
       "      <td>Action</td>\n",
       "      <td>Comedy</td>\n",
       "      <td>Action</td>\n",
       "      <td>Comedy</td>\n",
       "      <td>Action</td>\n",
       "      <td>Comedy</td>\n",
       "      <td>Action</td>\n",
       "      <td>Action</td>\n",
       "      <td>Comedy</td>\n",
       "      <td>Comedy</td>\n",
       "      <td>Comedy</td>\n",
       "      <td>Comedy</td>\n",
       "      <td>Comedy</td>\n",
       "      <td>Comedy</td>\n",
       "      <td>Comedy</td>\n",
       "      <td>Comedy</td>\n",
       "      <td>Action</td>\n",
       "      <td>Action</td>\n",
       "      <td>Comedy</td>\n",
       "      <td>Comedy</td>\n",
       "      <td>Comedy</td>\n",
       "      <td>Comedy</td>\n",
       "      <td>Comedy</td>\n",
       "      <td>Comedy</td>\n",
       "      <td>Comedy</td>\n",
       "      <td>Comedy</td>\n",
       "      <td>Comedy</td>\n",
       "      <td>Comedy</td>\n",
       "      <td>Comedy</td>\n",
       "    </tr>\n",
       "    <tr>\n",
       "      <th>1</th>\n",
       "      <td>Comedy</td>\n",
       "      <td>Drama</td>\n",
       "      <td>Adventure</td>\n",
       "      <td>Drama</td>\n",
       "      <td>Crime</td>\n",
       "      <td>Drama</td>\n",
       "      <td>Comedy</td>\n",
       "      <td>Drama</td>\n",
       "      <td>Drama</td>\n",
       "      <td>Comedy</td>\n",
       "      <td>Comedy</td>\n",
       "      <td>Drama</td>\n",
       "      <td>Comedy</td>\n",
       "      <td>Drama</td>\n",
       "      <td>Drama</td>\n",
       "      <td>Drama</td>\n",
       "      <td>Drama</td>\n",
       "      <td>Adventure</td>\n",
       "      <td>Horror</td>\n",
       "      <td>Drama</td>\n",
       "      <td>Drama</td>\n",
       "      <td>Horror</td>\n",
       "      <td>Drama</td>\n",
       "      <td>Drama</td>\n",
       "      <td>Comedy</td>\n",
       "      <td>Comedy</td>\n",
       "      <td>Drama</td>\n",
       "      <td>Comedy</td>\n",
       "      <td>Drama</td>\n",
       "      <td>Comedy</td>\n",
       "      <td>Drama</td>\n",
       "      <td>Comedy</td>\n",
       "      <td>Drama</td>\n",
       "      <td>Comedy</td>\n",
       "      <td>Comedy</td>\n",
       "      <td>Drama</td>\n",
       "      <td>Drama</td>\n",
       "      <td>Drama</td>\n",
       "      <td>Drama</td>\n",
       "      <td>Drama</td>\n",
       "      <td>Drama</td>\n",
       "      <td>Drama</td>\n",
       "      <td>Drama</td>\n",
       "      <td>Comedy</td>\n",
       "      <td>Comedy</td>\n",
       "      <td>Drama</td>\n",
       "      <td>Drama</td>\n",
       "      <td>Drama</td>\n",
       "      <td>Drama</td>\n",
       "      <td>Drama</td>\n",
       "      <td>Drama</td>\n",
       "      <td>Drama</td>\n",
       "      <td>Drama</td>\n",
       "      <td>Drama</td>\n",
       "      <td>Drama</td>\n",
       "      <td>Drama</td>\n",
       "    </tr>\n",
       "    <tr>\n",
       "      <th>2</th>\n",
       "      <td>Drama</td>\n",
       "      <td>Romance</td>\n",
       "      <td>Drama</td>\n",
       "      <td>Thriller</td>\n",
       "      <td>Drama</td>\n",
       "      <td>Thriller</td>\n",
       "      <td>Drama</td>\n",
       "      <td>Romance</td>\n",
       "      <td>Romance</td>\n",
       "      <td>Drama</td>\n",
       "      <td>Drama</td>\n",
       "      <td>Thriller</td>\n",
       "      <td>Drama</td>\n",
       "      <td>Thriller</td>\n",
       "      <td>Thriller</td>\n",
       "      <td>Thriller</td>\n",
       "      <td>Thriller</td>\n",
       "      <td>Drama</td>\n",
       "      <td>Thriller</td>\n",
       "      <td>Thriller</td>\n",
       "      <td>Thriller</td>\n",
       "      <td>Thriller</td>\n",
       "      <td>Horror</td>\n",
       "      <td>Thriller</td>\n",
       "      <td>Drama</td>\n",
       "      <td>Drama</td>\n",
       "      <td>Horror</td>\n",
       "      <td>Drama</td>\n",
       "      <td>Horror</td>\n",
       "      <td>Drama</td>\n",
       "      <td>Thriller</td>\n",
       "      <td>Drama</td>\n",
       "      <td>Thriller</td>\n",
       "      <td>Drama</td>\n",
       "      <td>Drama</td>\n",
       "      <td>Thriller</td>\n",
       "      <td>Thriller</td>\n",
       "      <td>Thriller</td>\n",
       "      <td>Thriller</td>\n",
       "      <td>Thriller</td>\n",
       "      <td>Thriller</td>\n",
       "      <td>Thriller</td>\n",
       "      <td>Thriller</td>\n",
       "      <td>Drama</td>\n",
       "      <td>Drama</td>\n",
       "      <td>Thriller</td>\n",
       "      <td>Thriller</td>\n",
       "      <td>Thriller</td>\n",
       "      <td>Thriller</td>\n",
       "      <td>Thriller</td>\n",
       "      <td>Thriller</td>\n",
       "      <td>Thriller</td>\n",
       "      <td>Thriller</td>\n",
       "      <td>Thriller</td>\n",
       "      <td>Thriller</td>\n",
       "      <td>Thriller</td>\n",
       "    </tr>\n",
       "  </tbody>\n",
       "</table>\n",
       "</div>"
      ],
      "text/plain": [
       "     1960     1961       1962      1963    1964      1965    1966     1967  \\\n",
       "0  Action   Comedy     Action    Comedy  Comedy    Action  Action   Comedy   \n",
       "1  Comedy    Drama  Adventure     Drama   Crime     Drama  Comedy    Drama   \n",
       "2   Drama  Romance      Drama  Thriller   Drama  Thriller   Drama  Romance   \n",
       "\n",
       "      1968    1969    1970      1971    1972      1973      1974      1975  \\\n",
       "0   Comedy  Action  Action    Action  Action     Crime     Crime    Comedy   \n",
       "1    Drama  Comedy  Comedy     Drama  Comedy     Drama     Drama     Drama   \n",
       "2  Romance   Drama   Drama  Thriller   Drama  Thriller  Thriller  Thriller   \n",
       "\n",
       "       1976       1977      1978      1979      1980      1981    1982  \\\n",
       "0    Action     Action     Drama    Comedy    Action     Drama  Comedy   \n",
       "1     Drama  Adventure    Horror     Drama     Drama    Horror   Drama   \n",
       "2  Thriller      Drama  Thriller  Thriller  Thriller  Thriller  Horror   \n",
       "\n",
       "       1983    1984    1985    1986    1987    1988    1989      1990    1991  \\\n",
       "0    Comedy  Action  Action  Comedy  Action  Comedy  Action    Comedy  Action   \n",
       "1     Drama  Comedy  Comedy   Drama  Comedy   Drama  Comedy     Drama  Comedy   \n",
       "2  Thriller   Drama   Drama  Horror   Drama  Horror   Drama  Thriller   Drama   \n",
       "\n",
       "       1992    1993    1994      1995      1996      1997      1998      1999  \\\n",
       "0    Comedy  Action  Action    Comedy    Comedy    Comedy    Comedy    Comedy   \n",
       "1     Drama  Comedy  Comedy     Drama     Drama     Drama     Drama     Drama   \n",
       "2  Thriller   Drama   Drama  Thriller  Thriller  Thriller  Thriller  Thriller   \n",
       "\n",
       "       2000      2001      2002    2003    2004      2005      2006      2007  \\\n",
       "0    Comedy    Comedy    Comedy  Action  Action    Comedy    Comedy    Comedy   \n",
       "1     Drama     Drama     Drama  Comedy  Comedy     Drama     Drama     Drama   \n",
       "2  Thriller  Thriller  Thriller   Drama   Drama  Thriller  Thriller  Thriller   \n",
       "\n",
       "       2008      2009      2010      2011      2012      2013      2014  \\\n",
       "0    Comedy    Comedy    Comedy    Comedy    Comedy    Comedy    Comedy   \n",
       "1     Drama     Drama     Drama     Drama     Drama     Drama     Drama   \n",
       "2  Thriller  Thriller  Thriller  Thriller  Thriller  Thriller  Thriller   \n",
       "\n",
       "       2015  \n",
       "0    Comedy  \n",
       "1     Drama  \n",
       "2  Thriller  "
      ]
     },
     "execution_count": 25,
     "metadata": {},
     "output_type": "execute_result"
    }
   ],
   "source": [
    "top_df = most_popular(grouped)\n",
    "top_df"
   ]
  },
  {
   "cell_type": "markdown",
   "metadata": {
    "collapsed": true,
    "jupyter": {
     "outputs_hidden": true
    }
   },
   "source": [
    "## Conclusions\n",
    "- No indication of correlation between higher budget and higher revenue\n",
    "- Almost four-fifths the total revenue of all the movies is accounted for by the top revenue movies\n",
    "- Proportion revenue of top revenue movies is significantly higher than proportion of revenue of all the movies\n",
    "- top revenue movies seem to be correlated with a median runtime of 112 minutes; median revenue of approximately 195 million; a median budget of approximately 58 million.\n",
    "- Movies revenue generally increase as the years go by\n",
    "- Many years of release seem to be correlated with the same type of genre  \n",
    "  \n",
    "## Limitations\n",
    "- The relationship between higher revenue movies and more recent years isn't possible to accurately understand the reason behind it with merely the kinds of features provided in this dataset. this could be accounted as a limitation in the availability of data at hand.  \n",
    "  \n",
    "  \n",
    "- the scale for the popularity feature in this dataset isn't known, and thus, it would be hard to identify the criteria for popular movies and/or being able to identify outliers for this particular feature of the dataset. this could account for limitations in the quality of the data at hand."
   ]
  },
  {
   "cell_type": "markdown",
   "metadata": {},
   "source": [
    "## External Sources\n",
    "- Websites: N/A\n",
    "- Books: N/A\n",
    "- Forums: N/A\n",
    "- Blog posts: N/A\n",
    "- github repositories: N/A\n",
    "- other: N/A"
   ]
  }
 ],
 "metadata": {
  "kernelspec": {
   "display_name": "Python 3",
   "language": "python",
   "name": "python3"
  },
  "language_info": {
   "codemirror_mode": {
    "name": "ipython",
    "version": 3
   },
   "file_extension": ".py",
   "mimetype": "text/x-python",
   "name": "python",
   "nbconvert_exporter": "python",
   "pygments_lexer": "ipython3",
   "version": "3.6.13"
  }
 },
 "nbformat": 4,
 "nbformat_minor": 4
}
