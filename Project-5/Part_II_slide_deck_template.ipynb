{
 "cells": [
  {
   "cell_type": "markdown",
   "metadata": {
    "slideshow": {
     "slide_type": "slide"
    }
   },
   "source": [
    "# Effect of Subjective Norms on Math Interest and Math Self-Efficacy\n",
    "## by (Ahmad Zain)"
   ]
  },
  {
   "cell_type": "markdown",
   "metadata": {
    "slideshow": {
     "slide_type": "slide"
    }
   },
   "source": [
    "## Investigation Overview\n",
    "\n",
    "The goal of this Investigation was to inspect whether there was a relationship pertaining to interest in math as well as the environmental influences surrounding such interest.\n",
    "\n",
    "#### summary of findings:  \n",
    "By classifying students' responses to various survey questions, I found that a student's level of interest in math was closely related to how a student's environment perceives the subject of math. When Introducing a third variable concerning a student's confidence in solving a certain math problem, the level of confidence for a student didn't have much effect on their interest in the subject as much as their environment. Even when they weren't very confident, they still showed an interest in the subject. The same with the level of math anxiety students reported, in environments that had strong to moderate interest in math, students were classified to have strong to moderate interest in math despite when they reported strong levels of anxiety.\n",
    "\n",
    "## Dataset Overview\n",
    "\n",
    "The dataset contains features that measure the knowledge, confidence, and interest of students on different subjects such as math and science and provides background information on the students from 65 different economies."
   ]
  },
  {
   "cell_type": "code",
   "execution_count": 1,
   "metadata": {
    "slideshow": {
     "slide_type": "skip"
    }
   },
   "outputs": [],
   "source": [
    "# import all packages and set plots to be embedded inline\n",
    "import numpy as np\n",
    "import pandas as pd\n",
    "import matplotlib.pyplot as plt\n",
    "import seaborn as sb\n",
    "\n",
    "%matplotlib inline\n",
    "\n",
    "# suppress warnings from final output\n",
    "import warnings\n",
    "warnings.simplefilter(\"ignore\")"
   ]
  },
  {
   "cell_type": "code",
   "execution_count": 2,
   "metadata": {
    "slideshow": {
     "slide_type": "skip"
    }
   },
   "outputs": [],
   "source": [
    "# load in the dataset into a pandas dataframe\n",
    "df_act = pd.read_csv(\"selected_features.csv\")"
   ]
  },
  {
   "cell_type": "code",
   "execution_count": 46,
   "metadata": {
    "slideshow": {
     "slide_type": "skip"
    }
   },
   "outputs": [],
   "source": [
    "first_category = [\"ST29Q01\", \"ST29Q03\", \"ST29Q04\", \"ST29Q06\"]\n",
    "second_category = [\"ST35Q01\", \"ST35Q02\", \"ST35Q03\", \"ST35Q04\", \"ST35Q05\", \"ST35Q06\"]\n",
    "third_category = [\"ST37Q02\", \"ST37Q03\", \"ST37Q04\", \"ST37Q05\", \"ST37Q06\", \"ST37Q07\", \"ST37Q08\"]\n",
    "fourth_category = [\"ST42Q02\", \"ST42Q04\", \"ST42Q06\", \"ST42Q07\", \"ST42Q09\"]\n",
    "fifth_category = [\"ST42Q01\", \"ST42Q03\", \"ST42Q05\", \"ST42Q08\", \"ST42Q10\"]\n",
    "\n",
    "cat_levels = [\n",
    "    \n",
    "    [\"Strongly agree\", \"Agree\", \"Disagree\", \"Strongly disagree\"], \n",
    "    [\"Very confident\", \"Confident\", \"Not very confident\", \"Not at all confident\"]\n",
    "]\n",
    "\n",
    "# Function for changing the data type of specified columns\n",
    "def convert_ordinal(cols, cats):\n",
    "    for col in cols:\n",
    "        order = pd.api.types.CategoricalDtype(ordered=True, categories=cats)\n",
    "        df_act[col] = df_act[col].astype(order)\n",
    "    \n",
    "\n",
    "convert_ordinal(first_category, cat_levels[0])\n",
    "convert_ordinal(second_category, cat_levels[0])\n",
    "convert_ordinal(third_category, cat_levels[1])\n",
    "convert_ordinal(fourth_category, cat_levels[0])\n",
    "convert_ordinal(fifth_category, cat_levels[0])"
   ]
  },
  {
   "cell_type": "markdown",
   "metadata": {
    "slideshow": {
     "slide_type": "slide"
    }
   },
   "source": [
    "## Interest in Math Based on Four Survey Questions\n",
    "participants seem to be teetering between agreement and disagreement regarding their interest in math across all activities(Enjoy Reading, Look Forward to Lessons, Enjoy Maths, Interested).  \n",
    "<br>\n",
    "Furthermore, this frequent and close ratio between agreement and disagreement implies associations with other factors rather than mere coincidence. This implied association will be investigated more in the subsequent exploration of bivariate and multivariate approaches."
   ]
  },
  {
   "cell_type": "code",
   "execution_count": 54,
   "metadata": {
    "slideshow": {
     "slide_type": "subslide"
    }
   },
   "outputs": [
    {
     "data": {
      "image/png": "[encoded data removed]",
      "text/plain": [
       "<Figure size 1008x576 with 4 Axes>"
      ]
     },
     "metadata": {
      "needs_background": "light"
     },
     "output_type": "display_data"
    }
   ],
   "source": [
    "xlabels = {0: \"Enjoy Reading\", 1: \"Look Forward to Lessons\", 2: \"Enjoy Maths\", 3: \"Interested\"}\n",
    "\n",
    "base_color = sb.color_palette()[0]\n",
    "fig, ax = plt.subplots(nrows=2, ncols=2,figsize = [14, 8])\n",
    "ax = ax.flatten()\n",
    "\n",
    "for i, col in enumerate(first_category):\n",
    "    sb.countplot(data=df_act, x=col, color=base_color, ax=ax[i])\n",
    "    ax[i].set_xlabel(xlabels[i])\n",
    "    ax[i].get_yaxis().set_visible(False)\n",
    "    ax[i].spines['top'].set_visible(False)\n",
    "    ax[i].spines['right'].set_visible(False)\n",
    "plt.suptitle(\"Interest In Math\", fontsize=12)\n",
    "plt.show()"
   ]
  },
  {
   "cell_type": "markdown",
   "metadata": {
    "collapsed": true,
    "slideshow": {
     "slide_type": "slide"
    }
   },
   "source": [
    "## How Interest in Math is Affacted by a Student's Environment\n",
    "\n",
    "The plot shows the depiction of the distribution of the various responses reported by students regarding their interest in math and how they relate to the other various responses they have reported regarding their environment's perception and level of interest in the subject of math.\n",
    "\n",
    "#### #1 cluster(left):\n",
    "There is an interesting consistent trend on how having a strong agreement (corresponds with strong interest across all math activities) is linearly affected by a student's environment such as their parents and friends in terms of how they perceive math and their level of comprehension or interest in the subject.\n",
    "\n",
    "The second cluster from the left represents students with less interest in math than the previous one across different environmental influences. However, there is a similar trend between a student's interest in math and these environmental influences, such as:  \n",
    "    <br>\n",
    "    - Friends Do Well in Mathematics  \n",
    "    - Friends Work Hard on Mathematics  \n",
    "    - Friends Enjoy Mathematics Tests  \n",
    "    - Parents Believe Studying Mathematics Is Important  \n",
    "    - Parents Believe Mathematics Is Important for Career  \n",
    "    - Parents Like Mathematics\n",
    "    \n",
    "    Given how most students who agreed to have an interest in the different math activities also agreed to having believed that their friends and parents have an interest in math"
   ]
  },
  {
   "cell_type": "markdown",
   "metadata": {
    "slideshow": {
     "slide_type": "slide"
    }
   },
   "source": [
    "\n",
    "\n",
    "#### #3 cluster:\n",
    "Here we can see that students who *disagree* on having a general interest in math come from a diverse influencing environments, mostly between *agreement* and *disagreement*. but the trend still indicates a similar pattern as before, especially if we want to consider that *agreement* alone is not a strong environmental factor concerning the subject of math.\n",
    "\n",
    "#### #4 cluster:\n",
    "Although there are fewer students who *strongly disagree* to have an interest in math, students seem to be affected by their environment. And it's clear how the last bar in each cluster (corresponds with an eviroment with a lack of sufficient interest in math) rises consistently as you move down the scale for interest in math.  \n",
    "  \n",
    "<br>  \n",
    "  \n",
    "  \n",
    "Finally, these derived conclusions are based solely on correlations and not to be indicative of causality in that a student's environment is the *cause* for interest or lack of interest regarding math."
   ]
  },
  {
   "cell_type": "code",
   "execution_count": 51,
   "metadata": {
    "slideshow": {
     "slide_type": "subslide"
    }
   },
   "outputs": [
    {
     "data": {
      "image/png": "[encoded data removed]",
      "text/plain": [
       "<Figure size 864x432 with 1 Axes>"
      ]
     },
     "metadata": {
      "needs_background": "light"
     },
     "output_type": "display_data"
    }
   ],
   "source": [
    "# a data subset for first and second categories \n",
    "math_in = df_act.loc[:, first_category + second_category]\n",
    "\n",
    "# First, restructuring the second category and keeping the the observations of the first category intact \n",
    "math_in_melt = math_in.melt(id_vars=first_category, value_vars=second_category,\n",
    "                            var_name=\"SUBNORM\",\n",
    "                            value_name=\"SUBNORM_RES\")\n",
    "\n",
    "# Second, restructuring the first category and keeping the observations of the second category intact\n",
    "math_in_melt = math_in_melt.melt(id_vars=[\"SUBNORM\", \"SUBNORM_RES\"], value_vars=first_category,\n",
    "                                 var_name=\"INTMAT\",\n",
    "                                 value_name=\"INTMAT_RES\")\n",
    "\n",
    "plt.figure(figsize=[12, 6])\n",
    "\n",
    "# Subsetting the various \"math interest responses (x)\" with \"subjective norms responses (hue)\"\n",
    "sb.countplot(data=math_in_melt, x=\"INTMAT_RES\", hue=\"SUBNORM_RES\", hue_order=cat_levels[0], order=cat_levels[0],\n",
    "             palette=\"mako\")\n",
    "\n",
    "plt.title(\"Interest in Math VS. Environmental Influence\")\n",
    "plt.xlabel(\"Mathematics interest\")\n",
    "plt.legend(title=\"Subjective norms in mathematics\", loc = 1)\n",
    "\n",
    "# Getting the current axes to customize the plot\n",
    "ax = plt.gca()\n",
    "ax.get_yaxis().set_visible(False)\n",
    "ax.spines['top'].set_visible(False)\n",
    "ax.spines['right'].set_visible(False)\n",
    "ax.spines['left'].set_visible(False)\n",
    "\n",
    "plt.show()"
   ]
  },
  {
   "cell_type": "markdown",
   "metadata": {
    "slideshow": {
     "slide_type": "slide"
    }
   },
   "source": [
    "## How Mathematics Self-Efficacy is Affacted By a Student's Environment\n",
    "The plot shows the depiction of the distribution of the various responses reported by students regarding their level of confidence for solving certain math problems and how they relate to the other various responses they have reported regarding their environment's perception and level of interest in the subject of math.\n",
    "\n",
    "#### #1 cluster(left):\n",
    "Students who have been classified as *very confident* in their overall ability to solve various math problems seem to come from various environments characterized by the level of interest in math. Since the two subjective norm rates of *strongly agree* & *agree* can add up to the most influential factor, we can assume for now that highly confident students are affected by their environment that dominintely consists of individuals with interest in math.\n",
    "\n",
    "#### #2 cluster:\n",
    "Students classified as *confident* but not *very confident* in their overall ability to solve various math problems seem to fit the previous pattern of the correlation between environment and math interest or confidence and are in an environment dominated by *Agree* (but not *Strongly Agree*) and *Disagree* in regards to the overall perception of math.\n",
    "\n",
    "#### remaining clusters:\n",
    "The last two clusters are similar in spirit to the second previous cluster.\n"
   ]
  },
  {
   "cell_type": "code",
   "execution_count": 52,
   "metadata": {
    "scrolled": true,
    "slideshow": {
     "slide_type": "subslide"
    }
   },
   "outputs": [
    {
     "data": {
      "image/png": "[encoded data removed]",
      "text/plain": [
       "<Figure size 864x432 with 1 Axes>"
      ]
     },
     "metadata": {
      "needs_background": "light"
     },
     "output_type": "display_data"
    }
   ],
   "source": [
    "# Here I follow the same strategy as above but with a different feature category\n",
    "math_eff = df_act.loc[:, second_category + third_category]\n",
    "\n",
    "math_eff_melt = math_eff.melt(id_vars=second_category, value_vars=third_category,\n",
    "                              var_name=\"MATHEFF\",\n",
    "                              value_name=\"MATHEFF_RES\")\n",
    "\n",
    "math_eff_melt = math_eff_melt.melt(id_vars=[\"MATHEFF\", \"MATHEFF_RES\"], value_vars=second_category,\n",
    "                                   var_name=\"SUBNORM\",\n",
    "                                   value_name=\"SUBNORM_RES\")\n",
    "\n",
    "plt.figure(figsize=[12, 6])\n",
    "\n",
    "sb.countplot(data=math_eff_melt, x=\"MATHEFF_RES\", hue=\"SUBNORM_RES\", hue_order=cat_levels[0], order=cat_levels[1],\n",
    "             palette=\"rocket\")\n",
    "\n",
    "plt.title(\"Math self-efficacy VS. Environmental Influence\")\n",
    "plt.xlabel(\"self-efficacy\")\n",
    "plt.legend(title=\"Subjective norms in mathematics\", loc = 1)\n",
    "\n",
    "\n",
    "# Getting the current axes to customize the plot\n",
    "ax = plt.gca()\n",
    "ax.get_yaxis().set_visible(False)\n",
    "ax.spines['top'].set_visible(False)\n",
    "ax.spines['right'].set_visible(False)\n",
    "ax.spines['left'].set_visible(False)\n",
    "\n",
    "plt.show()"
   ]
  },
  {
   "cell_type": "markdown",
   "metadata": {
    "slideshow": {
     "slide_type": "slide"
    }
   },
   "source": [
    "## Relationship between Subjective Norms and Math Interest & Math Self-Efficacy\n",
    "\n",
    "After introducing a third variable (Math Self-Efficacy), the following conclusions were observed:\n",
    "\n",
    "Students from an environment with strong interest in math, maintained a strong interest in math themselves even if they didn't necessarily have *confidence* in their math problem solving skill, which suggests that there is a correlation between Subjective Norms in math and Interest in Math, but doesn't necessarily come from personal aspiration given the low confidence levels.\n",
    "\n",
    "Most students with moderate interest in math are in environments with moderate interest in math as well, despite being affected by the different levels of confidence in math problem-solving. In other words, this indicates that student interest in math is influenced by their environment perception of math although they don't necessarily have to have the confidence in their ability to solve a particular math problem.\n",
    "\n",
    "Changing the third variable from self-efficacy to math anxiety still tells the same story, in which students' interest in math is affected by their environment, but this time, even if they measured strong level of anxiety."
   ]
  },
  {
   "cell_type": "code",
   "execution_count": null,
   "metadata": {},
   "outputs": [],
   "source": []
  }
 ],
 "metadata": {
  "celltoolbar": "Slideshow",
  "kernelspec": {
   "display_name": "Python 3",
   "language": "python",
   "name": "python3"
  },
  "language_info": {
   "codemirror_mode": {
    "name": "ipython",
    "version": 3
   },
   "file_extension": ".py",
   "mimetype": "text/x-python",
   "name": "python",
   "nbconvert_exporter": "python",
   "pygments_lexer": "ipython3",
   "version": "3.6.13"
  }
 },
 "nbformat": 4,
 "nbformat_minor": 2
}
